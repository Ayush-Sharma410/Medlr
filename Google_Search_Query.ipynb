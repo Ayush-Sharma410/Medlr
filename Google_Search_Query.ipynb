{
  "nbformat": 4,
  "nbformat_minor": 0,
  "metadata": {
    "colab": {
      "provenance": [],
      "authorship_tag": "ABX9TyNKk12jqOe6dPLIq3NBnnUl",
      "include_colab_link": true
    },
    "kernelspec": {
      "name": "python3",
      "display_name": "Python 3"
    },
    "language_info": {
      "name": "python"
    }
  },
  "cells": [
    {
      "cell_type": "markdown",
      "metadata": {
        "id": "view-in-github",
        "colab_type": "text"
      },
      "source": [
        "<a href=\"https://colab.research.google.com/github/Ayush-Sharma410/Medlr/blob/master/Google_Search_Query.ipynb\" target=\"_parent\"><img src=\"https://colab.research.google.com/assets/colab-badge.svg\" alt=\"Open In Colab\"/></a>"
      ]
    },
    {
      "cell_type": "code",
      "source": [
        "import requests\n",
        "from bs4 import BeautifulSoup\n",
        "\n",
        "# URL of the website to scrape\n",
        "url = 'https://www.google.com/search?q=+buy+augmentin+500'\n",
        "\n",
        "# Send a GET request to the URL\n",
        "response = requests.get(url)\n",
        "\n",
        "# Parse the HTML content of the response using BeautifulSoup\n",
        "soup = BeautifulSoup(response.content, 'html.parser')\n",
        "\n",
        "# Find all the <a> tags in the HTML\n",
        "links = soup.find_all('a',class_='yuRUbf')\n",
        "\n",
        "# Print the href attribute of each <a> tag\n",
        "for link in links:\n",
        "    print(link.get('href'))"
      ],
      "metadata": {
        "id": "eJyx0EHcM7fI"
      },
      "execution_count": 13,
      "outputs": []
    },
    {
      "cell_type": "code",
      "source": [
        "from googlesearch import search\n",
        "\n",
        "# The search query\n",
        "query = \"augmentin medicine in India\"\n",
        "\n",
        "# Get the search results as a list of URLs\n",
        "search_results = list(search(query, tld=\"co.in\", num=20, lang=\"en\", country=\"IN\"))\n",
        "\n",
        "# Print the search result links\n",
        "for url in search_results:\n",
        "    print(url)\n"
      ],
      "metadata": {
        "colab": {
          "base_uri": "https://localhost:8080/"
        },
        "id": "FGdzsyjAS_cs",
        "outputId": "a6e932bf-5f8f-4757-f7b2-c23ae72c6e05"
      },
      "execution_count": 26,
      "outputs": [
        {
          "output_type": "stream",
          "name": "stdout",
          "text": [
            "https://pharmeasy.in/online-medicine-order/augmentin-duo-625mg-strip-of-10-tablets-11551\n",
            "https://www.apollopharmacy.in/medicine/augmentin-duo-625mg-tablet\n",
            "https://dir.indiamart.com/impcat/augmentin-tablet.html\n",
            "https://www.netmeds.com/prescriptions/augmentin-duo-625mg-tablet-10-s\n",
            "https://www.medplusmart.com/product/augmentin-duo-625mg-tab_augm0006\n",
            "https://www.1mg.com/drugs/augmentin-625-duo-tablet-138629\n",
            "https://www.1mg.com/drugs/augmentin-1000-duo-tablet-163191\n",
            "https://india-pharma.gsk.com/media/6335/augmentin-duo-tablets.pdf\n",
            "https://www.medindia.net/drug-price/amoxicillin-combination/augmentin-duo-875mg-125mg.htm\n",
            "https://www.gnhindia.com/products/amoxycillin-potassium-clavulanate-tablets-ip/\n",
            "https://kgtk.sea16.go.th/india-augmentin-875-125-price.html\n",
            "https://www.ncbi.nlm.nih.gov/pmc/articles/PMC5988199/\n",
            "https://www.ncbi.nlm.nih.gov/pmc/articles/PMC7954971/\n",
            "https://m.economictimes.com/gsk-antibiotic-augmentin-claims-top-slot-in-brand-chart/articleshow/896362.cms\n",
            "http://www.medilonhealthcare.com/amoxicillin-tablets-4383697.html\n",
            "https://www.medsafe.govt.nz/consumers/cmi/a/augmentintab.pdf\n",
            "https://www.drugs.com/augmentin.html\n",
            "https://www.med.uio.no/helsam/english/research/news-and-events/news/2022/india-is-one-of-the-world%E2%80%99s-leading-producers-of-antibiotics.html\n",
            "https://indimedo.com/products/all-medicines/augmentin-625-duo-tablet\n",
            "https://www.drugwatch.com/drugs/augmentin/\n",
            "https://genericwala.com/Search/ItemDetails?hdnItemCode=3787&SO=AUGMENTIN%20DUO%20625MG%20TABLET\n",
            "https://clinicaltrials.gov/ct2/show/NCT04600752\n",
            "https://timesofindia.indiatimes.com/business/india-business/augmentin-topples-corex-as-top-seller/articleshow/7776764.cms\n",
            "https://www.onebharatpharmacy.com/product/product_details/1778/augmentin-625-duo-tablet\n",
            "https://www.mrmed.in/medicines/augmentin-625mg-duo-tablet\n",
            "https://www.canadianpharmacyking.com/Drug/Augmentin\n",
            "https://www.mims.com/india/drug/info/augmentin\n",
            "https://www.rxlist.com/consumer_amoxicillinclavulanate_augmentin/drugs-condition.htm\n",
            "https://joppp.biomedcentral.com/articles/10.1186/2052-3211-6-6\n",
            "https://www.kernodle.com/pediatrics_blog/commonly-prescribed-pediatric-medications/\n",
            "https://www.medlineindia.com/antibiotic-and-antiviral/amoxycillin_with_clavulanic_acid.htm\n",
            "https://en.wikipedia.org/wiki/Amoxicillin/clavulanic_acid\n",
            "https://www.webmd.com/drugs/2/drug-1922-7240/amoxicillin-potassium-clavulanate-oral/amoxicillin-clavulanic-acid-chewable-tablet-oral/details\n",
            "https://www.cnn.com/2022/11/22/health/drug-shortages-tamiflu-amoxicillin-albuterol/index.html\n",
            "https://www.sciencedirect.com/topics/medicine-and-dentistry/amoxicillin\n",
            "https://www.mayoclinic.org/drugs-supplements/amoxicillin-and-clavulanate-oral-route/description/drg-20072709\n",
            "https://www.euronews.com/next/2022/12/06/europe-medicine-shortages-where-why-low-drug-supplies-from-amoxicillin-to-paracetamol\n",
            "https://www.fortuneindia.com/enterprise/covid-19-effect-dolo-augmentin-top-selling-medicines-in-jan/107127\n",
            "https://academic.oup.com/jac/article/77/Supplement_1/i10/6692265\n",
            "https://www.petplace.com/article/drug-library/drug-library/library/amoxicillin-clavulanate-clavamox-augmentin-for-dogs-and-cats/\n",
            "https://fqyz.atlas-medical.com/augmentin-1000-mg-ne-ise-yarar.html\n",
            "https://www.singlecare.com/blog/amoxicillin-vs-augmentin/\n",
            "https://honeybeehealth.com/drugs/details/augmentin/microlabsusa\n",
            "https://www.medicoverhospitals.in/medicine/amoxicillin\n",
            "https://www.fiercepharma.com/pharma/extension-of-recall-of-glaxosmithkline-s-augmentin\n",
            "https://www.practo.com/medicine-info/augmentin-625-duo-tablet-39328\n",
            "https://www.valueinhealthjournal.com/article/S1098-3015(16)31086-5/fulltext\n",
            "https://www.krishlarpharma.com/product/kritmox-cv-kid/\n",
            "https://www.goodrx.com/amoxicillin-potassium-clavulanate/interactions\n",
            "http://www.antimicrobe.org/drugpopup/Amoxicillin%20-%20Brand%20names.htm\n",
            "https://healthplus.flipkart.com/augmentin-duo-625-mg-tablet-10-tab-amoxycillin-clavulanic-acid-glaxo-smithkline-pharmaceuticals-limited/medicine/63dk8y\n",
            "https://www.dnaindia.com/business/report-glaxo-s-augmentin-banned-in-taiwan-will-india-follow-1554684\n",
            "https://www.empr.com/drug/augmentin/\n",
            "https://www.fda.gov/animal-veterinary/cvm-updates/fda-approves-first-generic-amoxicillin-and-clavulanate-potassium-oral-suspension-use-cats-and-dogs\n",
            "https://www.nature.com/articles/s41415-020-1210-x\n",
            "https://link.springer.com/article/10.1007/s40121-020-00374-7\n",
            "https://www.medicines.org.uk/emc/product/526/smpc\n",
            "https://www.medicefpharma.com/blog/amoxicillin-and-potassium-india/\n",
            "https://www.medopharm.com/radiant/cledomox-kid-dt-amoxicillin-potassium-clavulanate-dispersible-tablets/\n",
            "https://www.medicinenet.com/amoxicillin_and_clavulanic_acid/article.htm\n",
            "https://www.medkart.in/composition/amoxicillin-875-mgclavulanic-acid-125-mg#!\n",
            "https://www.outlookindia.com/outlook-spotlight/buy-amoxicillin-online-best-vendor-in-the-uk-usa-news-244941\n",
            "http://www.lifeline-healthcare.com/amoxicillin-injection-4606618.html\n",
            "https://www.aapd.org/assets/1/7/rs_commonmeds.pdf\n",
            "https://www.usp-pqm.org/sites/default/files/pqms/article/amoxicillin-pir-jul2018.pdf\n",
            "https://vcmv.vivacolatina.com/augmentin-825-mg-125-mg.html\n",
            "https://www.justice.gov/opa/pr/generic-drug-manufacturer-ranbaxy-pleads-guilty-and-agrees-pay-500-million-resolve-false\n",
            "https://unej.ibrahimerdemoglu.com.tr/augmentin-bid-1000-mg-ne-ise-yarar.html\n",
            "https://www.drugsupdate.com/brand/showavailablebrands/660/4\n",
            "https://www.pristyncare.com/blog/medicines-for-tonsils-pc0135/\n",
            "https://www.tabletshablet.com/product/augmentin-tablet-625mg/\n",
            "https://www.medicalnewstoday.com/articles/325154\n",
            "https://www.refillonlinepharmacy.com/augmentin-625mg-india\n",
            "https://www.gov.uk/travelling-controlled-drugs\n",
            "https://www.wolterskluwer.com/en/solutions/lexicomp\n",
            "https://www.mhlw.go.jp/english/policy/health-medical/pharmaceuticals/01.html\n",
            "https://www.healthychildren.org/English/safety-prevention/at-home/medication-safety/Pages/Antibiotic-Prescriptions-for-Children.aspx\n",
            "https://www.tradeindia.com/products/125-mg-augmentin-tablets-c6461290.html\n",
            "https://www.anytimedoctor.co.uk/onlinedoctor/medipac/amoxicillin.html\n",
            "https://www.cdc.gov/drugresistance/about.html\n",
            "http://janaushadhi.gov.in/productlist.aspx\n",
            "https://www.healthline.com/health/antibiotics-for-boils\n",
            "https://www.pfizer.com/products\n",
            "https://www.who.int/news-room/fact-sheets/detail/pneumonia\n",
            "https://www.nhs.uk/conditions/stevens-johnson-syndrome/\n",
            "https://www.biotichealthcare.com/Best-Antibiotic-Tablets-for-Fever-in-India\n",
            "https://jp.usembassy.gov/services/importing-medication/\n",
            "https://www.chemistsworld.com/prescription/augmentin-625-duo-tablet.html\n",
            "https://www.myupchar.com/en/medicine/augmentin-p37097745\n",
            "https://www.medicineindia.org/medicine-brand-details/3356/augmentin\n",
            "https://www.healthnavigator.org.nz/tools/a/amoxicillin-paediatric-dose-calculator/\n",
            "https://www.moph.gov.lb/en/Drugs/index/3/4848/lebanon-national-drugs-database\n",
            "https://my.clevelandclinic.org/health/diseases/4602-strep-throat\n",
            "https://en.japantravel.com/guide/bringing-medicines-into-japan/58063\n",
            "https://www.cipla.com/generic-product-list\n",
            "https://www.youtube.com/watch?v=mH7R9BSBmMI\n",
            "https://medlineplus.gov/druginfo/meds/a685024.html\n",
            "https://www.deadiversion.usdoj.gov/schedules/orangebook/c_cs_alpha.pdf\n",
            "https://www.ema.europa.eu/en/medicines/human/referrals/augmentin\n",
            "https://www.urmc.rochester.edu/medicine/general-medicine/patientcare/documents/Augmentin_Brochure_URMC.pdf\n",
            "https://www.cancer.gov/publications/dictionaries/cancer-terms/def/augmentin\n",
            "https://reference.medscape.com/drug/augmentin-amoxicillin-clavulanate-342474\n",
            "https://go.drugbank.com/drugs/DB01060\n"
          ]
        }
      ]
    },
    {
      "cell_type": "code",
      "source": [
        "from googlesearch import search\n",
        "\n",
        "# The search query\n",
        "query = \"calpol medicine in India\"\n",
        "\n",
        "# Get the search results as a list of URLs for India and English language\n",
        "search_results = list(search(query, tld=\"co.in\", num=20, lang=\"en\", country=\"IN\"))\n",
        "\n",
        "# The domain names of the specific websites to extract\n",
        "websites = ['1mg.com', 'pharmeasy.in', 'netmeds.com', 'apollopharmacy.in']\n",
        "\n",
        "# Loop through the search result links and extract the URLs from the specified websites\n",
        "urls = []\n",
        "for url in search_results:\n",
        "    for website in websites:\n",
        "        if website in url:\n",
        "            urls.append(url)\n",
        "            break\n",
        "\n",
        "# Print the extracted URLs\n",
        "for url in urls:\n",
        "    print(url)\n"
      ],
      "metadata": {
        "colab": {
          "base_uri": "https://localhost:8080/"
        },
        "id": "4qvk3spAXU7A",
        "outputId": "9f8611bc-4383-4c40-9963-3d69d35ceeb9"
      },
      "execution_count": 31,
      "outputs": [
        {
          "output_type": "stream",
          "name": "stdout",
          "text": [
            "https://pharmeasy.in/online-medicine-order/calpol-500mg-strip-of-15-tablets-38810\n",
            "https://www.netmeds.com/prescriptions/calpol-500mg-tablet-15-s\n",
            "https://www.1mg.com/drugs/calpol-500mg-tablet-69656\n",
            "https://www.apollopharmacy.in/otc/calpol-500mg-tablet\n"
          ]
        }
      ]
    }
  ]
}