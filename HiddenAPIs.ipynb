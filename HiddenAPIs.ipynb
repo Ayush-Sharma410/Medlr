{
  "nbformat": 4,
  "nbformat_minor": 0,
  "metadata": {
    "colab": {
      "provenance": [],
      "authorship_tag": "ABX9TyNAZp7fL4MnVo+6+FJXTomL",
      "include_colab_link": true
    },
    "kernelspec": {
      "name": "python3",
      "display_name": "Python 3"
    },
    "language_info": {
      "name": "python"
    }
  },
  "cells": [
    {
      "cell_type": "markdown",
      "metadata": {
        "id": "view-in-github",
        "colab_type": "text"
      },
      "source": [
        "<a href=\"https://colab.research.google.com/github/Ayush-Sharma410/Medlr/blob/master/HiddenAPIs.ipynb\" target=\"_parent\"><img src=\"https://colab.research.google.com/assets/colab-badge.svg\" alt=\"Open In Colab\"/></a>"
      ]
    },
    {
      "cell_type": "code",
      "execution_count": null,
      "metadata": {
        "id": "HcIpV5ckUMF5"
      },
      "outputs": [],
      "source": [
        "#This code uses hidden APIs of pharmeasy and scrape data from the page using requests method"
      ]
    },
    {
      "cell_type": "code",
      "source": [
        "import requests"
      ],
      "metadata": {
        "id": "0aSMsXWvdyoj"
      },
      "execution_count": null,
      "outputs": []
    },
    {
      "cell_type": "code",
      "source": [
        "url='https://pharmeasy.in/api/search/searchTypeAhead?intent_id&q=pcm'\n",
        "response=requests.request(\"GET\",url)\n",
        "data=response.json()\n",
        "data"
      ],
      "metadata": {
        "id": "LBfOxTthUOmU"
      },
      "execution_count": null,
      "outputs": []
    },
    {
      "cell_type": "code",
      "source": [
        "\n",
        "list1=[i['name'] for i in data[\"data\"]['products'] ]\n",
        "print(list1)"
      ],
      "metadata": {
        "colab": {
          "base_uri": "https://localhost:8080/"
        },
        "id": "GvK37q7yUhd2",
        "outputId": "8985d497-137f-4b05-dc8b-1117fa2287d8"
      },
      "execution_count": null,
      "outputs": [
        {
          "output_type": "stream",
          "name": "stdout",
          "text": [
            "['Pcm', 'Pcm Tablet', 'Pcm Injection', 'Pcm Suspension', 'Pct Test', 'Pcm 650mg Tablet', 'Pcm 250mg Suspension 60ml', 'Pcm Ampoule Of 2ml Injection', 'Pcm Suspension 60ml', 'Pcm Bottle Of 100ml Solution For Infusion']\n"
          ]
        }
      ]
    },
    {
      "cell_type": "code",
      "source": [
        "url='https://www.1mg.com/pwa-api/search/all?filter=%26filter%3Dtrue&name=Pcm&pageSize=40&city=Gurgaon&pageNumber=0&scrollId=&types=sku,allopathy&sort=relevance&fetchEta=true&cityServiceable=true'\n",
        "response=requests.request(\"GET\",url)\n",
        "data=response.json()\n",
        "data"
      ],
      "metadata": {
        "colab": {
          "base_uri": "https://localhost:8080/"
        },
        "id": "3DCFjPadgpJU",
        "outputId": "9902035e-a88f-4277-d9d9-964d18d184a5"
      },
      "execution_count": null,
      "outputs": [
        {
          "output_type": "execute_result",
          "data": {
            "text/plain": [
              "{'is_success': False,\n",
              " 'status_code': 400,\n",
              " 'error': {'message': 'City is required',\n",
              "  'errors': [{'message': 'City is required'}]}}"
            ]
          },
          "metadata": {},
          "execution_count": 30
        }
      ]
    }
  ]
}