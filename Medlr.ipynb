{
  "nbformat": 4,
  "nbformat_minor": 0,
  "metadata": {
    "colab": {
      "provenance": [],
      "include_colab_link": true
    },
    "kernelspec": {
      "name": "python3",
      "display_name": "Python 3"
    },
    "language_info": {
      "name": "python"
    }
  },
  "cells": [
    {
      "cell_type": "markdown",
      "metadata": {
        "id": "view-in-github",
        "colab_type": "text"
      },
      "source": [
        "<a href=\"https://colab.research.google.com/github/Ayush-Sharma410/Medlr/blob/master/Medlr.ipynb\" target=\"_parent\"><img src=\"https://colab.research.google.com/assets/colab-badge.svg\" alt=\"Open In Colab\"/></a>"
      ]
    },
    {
      "cell_type": "markdown",
      "source": [
        "### ***1mg link manual, else automated***"
      ],
      "metadata": {
        "id": "G7DUMP1ymyNn"
      }
    },
    {
      "cell_type": "code",
      "execution_count": null,
      "metadata": {
        "colab": {
          "base_uri": "https://localhost:8080/"
        },
        "id": "c_n2V2xImoyu",
        "outputId": "bdc3f547-2f49-4bfc-a727-02c58e502fca"
      },
      "outputs": [
        {
          "output_type": "stream",
          "name": "stdout",
          "text": [
            "121\n"
          ]
        }
      ],
      "source": [
        "# 1mg link manual, else automated\n",
        "\n",
        "import requests\n",
        "from bs4 import BeautifulSoup\n",
        "\n",
        "# Make a request to the webpage\n",
        "url = 'https://www.1mg.com/drugs/engastro-capsule-sr-423196'\n",
        "response = requests.get(url)\n",
        "\n",
        "# Parse the HTML content with Beautiful Soup\n",
        "soup = BeautifulSoup(response.content, 'html.parser')\n",
        "\n",
        "# Extract the page title\n",
        "title = soup.title.string\n",
        "# print(title)\n",
        "\n",
        "# Extract all the links on the page\n",
        "links = []\n",
        "for link in soup.find_all('a'):\n",
        "    link_href = link.get('href')\n",
        "    if link_href is not None and link_href.startswith('http'):\n",
        "        links.append(link.get('href'))\n",
        "# print(links)\n",
        "\n",
        "# Extract all the text on the page\n",
        "text = soup.get_text()\n",
        "# print(text)\n",
        "\n",
        "\n",
        "# Find the index of the word \"scraping\"\n",
        "keyword = 'MRP'\n",
        "index = text.index(keyword)\n",
        "\n",
        "# Split the text into words\n",
        "words = text[:index].split()\n",
        "\n",
        "# Extract the last word in the list\n",
        "word_before = words[-1]\n",
        "\n",
        "# print(word_before)\n",
        "\n",
        "\n",
        "\n",
        "\n",
        "import re\n",
        "\n",
        "# text = \"20'sMRP₹46\"\n",
        "\n",
        "match = re.search(r'₹(\\d+)', word_before)\n",
        "\n",
        "if match:\n",
        "    number = match.group(1)\n",
        "    print(number)\n"
      ]
    },
    {
      "cell_type": "markdown",
      "source": [],
      "metadata": {
        "id": "rGCP4gHzm6kB"
      }
    },
    {
      "cell_type": "markdown",
      "source": [
        "### ***apollo pharmacy full automated just add medicine name, but some times it picks 2nd product not always 1st***"
      ],
      "metadata": {
        "id": "Qo5VVziLnAJU"
      }
    },
    {
      "cell_type": "code",
      "source": [
        "import requests\n",
        "from bs4 import BeautifulSoup\n",
        "\n",
        "# Make a request to the webpage\n",
        "X=input(\"Medicine Name : \")\n",
        "url = 'https://www.apollopharmacy.in/search-medicines/'+X\n",
        "response = requests.get(url)\n",
        "\n",
        "# Parse the HTML content with Beautiful Soup\n",
        "soup = BeautifulSoup(response.content, 'html.parser')\n",
        "\n",
        "# Extract the page title\n",
        "title = soup.title.string\n",
        "# print(title)\n",
        "\n",
        "# Extract all the links on the page\n",
        "links = []\n",
        "for link in soup.find_all('a'):\n",
        "    link_href = link.get('href')\n",
        "    if link_href is not None and link_href.startswith('http'):\n",
        "        links.append(link.get('href'))\n",
        "# print(links)\n",
        "\n",
        "# Extract all the text on the page\n",
        "text = soup.get_text()\n",
        "# print(text)\n",
        "\n",
        "\n",
        "\n",
        "\n",
        "# Find the index of the word \"scraping\"\n",
        "keyword = 'Add to Cart'\n",
        "index = text.index(keyword)\n",
        "\n",
        "# Split the text into words\n",
        "words = text[:index].split()\n",
        "\n",
        "# Extract the last word in the list\n",
        "word_before = words[-1]\n",
        "\n",
        "# print(word_before)\n",
        "\n",
        "\n",
        "\n",
        "import re\n",
        "\n",
        "# text = \"20'sMRP₹46\"\n",
        "\n",
        "match = re.search(r'₹(\\d+)', word_before)\n",
        "\n",
        "if match:\n",
        "    number = match.group(1)\n",
        "    print(number)\n"
      ],
      "metadata": {
        "colab": {
          "base_uri": "https://localhost:8080/"
        },
        "id": "cQyMaGzPnOJD",
        "outputId": "35612e29-49e6-4d43-c83c-34bd5f28febe"
      },
      "execution_count": null,
      "outputs": [
        {
          "output_type": "stream",
          "name": "stdout",
          "text": [
            "Medicine Name : pcm\n",
            "14\n"
          ]
        }
      ]
    },
    {
      "cell_type": "markdown",
      "source": [
        "### ***Pharmeasy fully automated***"
      ],
      "metadata": {
        "id": "S30iF5yo9TKS"
      }
    },
    {
      "cell_type": "code",
      "source": [
        "import requests\n",
        "from bs4 import BeautifulSoup\n",
        "\n",
        "# Make a request to the webpage\n",
        "X=input(\"Medicine Name : \")\n",
        "url = 'https://pharmeasy.in/search/all?name='+X\n",
        "#https://pharmeasy.in/search/all?name=pcm\n",
        "response = requests.get(url)\n",
        "\n",
        "# Parse the HTML content with Beautiful Soup\n",
        "soup = BeautifulSoup(response.content, 'html.parser')\n",
        "\n",
        "# Extract the page title\n",
        "title = soup.title.string\n",
        "# print(title)\n",
        "\n",
        "# Extract all the links on the page\n",
        "links = []\n",
        "for link in soup.find_all('a'):\n",
        "    link_href = link.get('href')\n",
        "    if link_href is not None and link_href.startswith('http'):\n",
        "        links.append(link.get('href'))\n",
        "# print(links)\n",
        "\n",
        "# Extract all the text on the page\n",
        "text = soup.get_text()\n",
        "# print(text)\n",
        "\n",
        "\n",
        "\n",
        "import re\n",
        "\n",
        "# text = \"Tablet(s) in StripMRP ₹12.89*Pcm 250mg\"\n",
        "\n",
        "# Use regular expression to find the price\n",
        "price = re.search(r'₹(\\d+\\.\\d+)', text)\n",
        "\n",
        "# Check if price was found and extract it\n",
        "if price:\n",
        "    price = float(price.group(1))\n",
        "    print(price)\n",
        "else:\n",
        "    print(\"Price not found\")\n"
      ],
      "metadata": {
        "colab": {
          "base_uri": "https://localhost:8080/"
        },
        "id": "dylh0AEC9cKQ",
        "outputId": "ba01176a-3639-480c-914c-d0bca1a017b2"
      },
      "execution_count": null,
      "outputs": [
        {
          "output_type": "stream",
          "name": "stdout",
          "text": [
            "Medicine Name : pcm\n",
            "12.89\n"
          ]
        }
      ]
    },
    {
      "cell_type": "markdown",
      "source": [
        "### ***Netmeds only link manual, else automated***"
      ],
      "metadata": {
        "id": "cV1UfpS2A1v1"
      }
    },
    {
      "cell_type": "code",
      "source": [
        "import requests\n",
        "from bs4 import BeautifulSoup\n",
        "\n",
        "# Make a request to the webpage\n",
        "# X=input(\"Medicine Name : \")\n",
        "url = 'https://www.netmeds.com/prescriptions/ferradol-powder-200gm'\n",
        "#https://pharmeasy.in/search/all?name=pcm\n",
        "response = requests.get(url)\n",
        "\n",
        "# Parse the HTML content with Beautiful Soup\n",
        "soup = BeautifulSoup(response.content, 'html.parser')\n",
        "\n",
        "# Extract the page title\n",
        "title = soup.title.string\n",
        "# print(title)\n",
        "\n",
        "# Extract all the links on the page\n",
        "links = []\n",
        "for link in soup.find_all('a'):\n",
        "    link_href = link.get('href')\n",
        "    if link_href is not None and link_href.startswith('http'):\n",
        "        links.append(link.get('href'))\n",
        "# print(links)\n",
        "\n",
        "# Extract all the text on the page\n",
        "text = soup.get_text()\n",
        "# print(text)\n",
        "\n",
        "\n",
        "\n",
        "# Find the index of the word \"scraping\"\n",
        "keyword = 'MRP'\n",
        "# print(keyword)\n",
        "index = text.index(keyword)\n",
        "\n",
        "# Split the text into words\n",
        "words = text[:index].split()\n",
        "\n",
        "# Extract the last word in the list\n",
        "word_before = words[-1]\n",
        "\n",
        "print(word_before)"
      ],
      "metadata": {
        "colab": {
          "base_uri": "https://localhost:8080/"
        },
        "id": "-c3aAxzZA9UK",
        "outputId": "2e7a4fc5-20a8-4e56-f957-8e0e5de2944d"
      },
      "execution_count": null,
      "outputs": [
        {
          "output_type": "stream",
          "name": "stdout",
          "text": [
            "326.40\n"
          ]
        }
      ]
    }
  ]
}